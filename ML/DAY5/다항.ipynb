{
 "cells": [
  {
   "cell_type": "code",
   "execution_count": 1,
   "metadata": {},
   "outputs": [],
   "source": [
    "import numpy as np\n",
    "import matplotlib.pyplot as plt\n",
    "from sklearn.pipeline import Pipeline\n",
    "from sklearn.preprocessing import PolynomialFeatures\n",
    "from sklearn.linear_model import LinearRegression\n",
    "from sklearn.model_selection import cross_val_score\n",
    "#334p\n"
   ]
  },
  {
   "cell_type": "code",
   "execution_count": 2,
   "metadata": {},
   "outputs": [],
   "source": [
    "# 임의의 값으로 구셩된 X 값에 대해 코사인 변환 값을 반환\n",
    "def true_fun(X) :\n",
    "    return np.cos(1.5 * np.pi * X)\n"
   ]
  },
  {
   "cell_type": "code",
   "execution_count": 3,
   "metadata": {},
   "outputs": [],
   "source": [
    "# X 는 0부터 1까지 30개의 임의의 값을 순서대로 샘플링한 데이터 입니다.\n",
    "np.random.seed(0)\n",
    "n_samples = 30\n",
    "X =  np.sort(np.random.rand(n_samples))"
   ]
  },
  {
   "cell_type": "code",
   "execution_count": 7,
   "metadata": {},
   "outputs": [
    {
     "data": {
      "text/plain": [
       "<Figure size 1400x500 with 0 Axes>"
      ]
     },
     "metadata": {},
     "output_type": "display_data"
    }
   ],
   "source": [
    "# y 값은 코사인 기반의 true_fun() 에서 약간의 노이즈 변동값을 더한 값입니다.\n",
    "y= true_fun(X) + np.random.randn(n_samples)* 0.1\n",
    "plt.figure(figsize=(14,5))\n",
    "degrees=[1,4,15]"
   ]
  },
  {
   "cell_type": "code",
   "execution_count": 12,
   "metadata": {},
   "outputs": [
    {
     "ename": "AttributeError",
     "evalue": "'list' object has no attribute 'fit'",
     "output_type": "error",
     "traceback": [
      "\u001b[1;31m---------------------------------------------------------------------------\u001b[0m",
      "\u001b[1;31mAttributeError\u001b[0m                            Traceback (most recent call last)",
      "Cell \u001b[1;32mIn[12], line 11\u001b[0m\n\u001b[0;32m      8\u001b[0m linear_regression \u001b[38;5;241m=\u001b[39m  LinearRegression()\n\u001b[0;32m      9\u001b[0m pipeline \u001b[38;5;241m=\u001b[39m ([(\u001b[38;5;124m\"\u001b[39m\u001b[38;5;124mpolynomial_features\u001b[39m\u001b[38;5;124m\"\u001b[39m, polynomial_features),(\u001b[38;5;124m\"\u001b[39m\u001b[38;5;124mlinear_regression\u001b[39m\u001b[38;5;124m\"\u001b[39m, linear_regression)])\n\u001b[1;32m---> 11\u001b[0m \u001b[43mpipeline\u001b[49m\u001b[38;5;241;43m.\u001b[39;49m\u001b[43mfit\u001b[49m(X\u001b[38;5;241m.\u001b[39mreshape(\u001b[38;5;241m-\u001b[39m\u001b[38;5;241m1\u001b[39m,\u001b[38;5;241m1\u001b[39m),y)\n\u001b[0;32m     13\u001b[0m \u001b[38;5;66;03m# 교차 검증으로 다항회귀를 평가합니다.\u001b[39;00m\n\u001b[0;32m     14\u001b[0m scores \u001b[38;5;241m=\u001b[39m  cross_val_score(pipeline, X\u001b[38;5;241m.\u001b[39mreshape(\u001b[38;5;241m-\u001b[39m\u001b[38;5;241m1\u001b[39m,\u001b[38;5;241m1\u001b[39m),y, scoring\u001b[38;5;241m=\u001b[39m\u001b[38;5;124m\"\u001b[39m\u001b[38;5;124mneg_mean_squared_error\u001b[39m\u001b[38;5;124m\"\u001b[39m,cv\u001b[38;5;241m=\u001b[39m\u001b[38;5;241m10\u001b[39m)\n",
      "\u001b[1;31mAttributeError\u001b[0m: 'list' object has no attribute 'fit'"
     ]
    },
    {
     "data": {
      "image/png": "[encoded data removed]",
      "text/plain": [
       "<Figure size 640x480 with 1 Axes>"
      ]
     },
     "metadata": {},
     "output_type": "display_data"
    }
   ],
   "source": [
    "# 다항 회귀의 차수 (degree) 를 1,4,15 로 각각 변화시키면서 비교 합니다.\n",
    "for i in range(len(degrees)):\n",
    "    ax =plt. subplot(1,len(degrees),i+1)\n",
    "    plt.setp(ax,xticks=(), yticks=())\n",
    "\n",
    "    #개별 degree 별로  Polyuomial 변환합니다\n",
    "    polynomial_features = PolynomialFeatures(degree= degrees [i], include_bias= False)\n",
    "    linear_regression =  LinearRegression()\n",
    "    pipeline = ([(\"polynomial_features\", polynomial_features),(\"linear_regression\", linear_regression)])\n",
    "\n",
    "    pipeline.fit(X.reshape(-1,1),y)\n",
    "\n",
    "    # 교차 검증으로 다항회귀를 평가합니다.\n",
    "    scores =  cross_val_score(pipeline, X.reshape(-1,1),y, scoring=\"neg_mean_squared_error\",cv=10)\n",
    "    #Pipeline 을 구성하는 세부 객체를 접근하는  named_steps[\"객체명\"] 을 이용해 회귀계수 추출\n",
    "    coefficients= pipeline."
   ]
  },
  {
   "cell_type": "code",
   "execution_count": null,
   "metadata": {},
   "outputs": [],
   "source": [
    "# ryck"
   ]
  }
 ],
 "metadata": {
  "kernelspec": {
   "display_name": "ML_38",
   "language": "python",
   "name": "python3"
  },
  "language_info": {
   "codemirror_mode": {
    "name": "ipython",
    "version": 3
   },
   "file_extension": ".py",
   "mimetype": "text/x-python",
   "name": "python",
   "nbconvert_exporter": "python",
   "pygments_lexer": "ipython3",
   "version": "3.8.19"
  }
 },
 "nbformat": 4,
 "nbformat_minor": 2
}
