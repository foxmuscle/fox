{
 "cells": [
  {
   "cell_type": "markdown",
   "metadata": {},
   "source": [
    "#### Ensemble - RandomForest & ExtraTree\n",
    "- 배깅 방식의 앙상블 ==> 중복 랜덤 샘플 + 동일 모델 (DT)\n",
    "    * RandomForestC/R\n",
    "- 페이스트 박식의 앙상블 ==> 랜덤 샘플 + 동일 모델 (DT)\n",
    "    * 대표 알고리즘 :ExtraTreeC/R"
   ]
  },
  {
   "cell_type": "markdown",
   "metadata": {},
   "source": [
    "- 와인분류 => 0과 1 2개 종류 분류"
   ]
  },
  {
   "cell_type": "markdown",
   "metadata": {},
   "source": [
    "[1] 모듈 로딩 및 데이터 준비"
   ]
  },
  {
   "cell_type": "code",
   "execution_count": null,
   "metadata": {},
   "outputs": [],
   "source": [
    "#모듈 로딩\n",
    "import pandas as pd\n",
    "import numpy as np\n",
    "import matplotlib.pyplot as plt"
   ]
  },
  {
   "cell_type": "code",
   "execution_count": null,
   "metadata": {},
   "outputs": [],
   "source": [
    "# 데이터 \n",
    "DATA_FILE= '../data/wine.csv'\n",
    "# 불러오기\n",
    "wineDF=pd.read_csv(DATA_FILE)"
   ]
  },
  {
   "cell_type": "code",
   "execution_count": null,
   "metadata": {},
   "outputs": [],
   "source": [
    "#데이터 확인\n",
    "wineDF.info()"
   ]
  },
  {
   "cell_type": "code",
   "execution_count": null,
   "metadata": {},
   "outputs": [],
   "source": [
    "#타겟 .라벨 클래스 분포\n",
    "wineDF['class'].value_counts()"
   ]
  },
  {
   "cell_type": "code",
   "execution_count": null,
   "metadata": {},
   "outputs": [],
   "source": [
    "3#데이터 분석에서 사용되는 함수로, 데이터 프레임이나 시리즈의 기초 통계 정보를 요약해서 보여줍니다. \n",
    "#이 함수는 Pandas 라이브러리에서 제공되며, 데이터의 기초 통계를 한눈에 파악할 수 있게 도와줍니다.\n",
    "wineDF.describe()"
   ]
  },
  {
   "cell_type": "markdown",
   "metadata": {},
   "source": [
    "[2] 학습 준비"
   ]
  },
  {
   "cell_type": "code",
   "execution_count": null,
   "metadata": {},
   "outputs": [],
   "source": [
    "# 학습용 & 테스트용 데이터셋 분활\n",
    "from sklearn.model_selection import train_test_split"
   ]
  },
  {
   "cell_type": "code",
   "execution_count": null,
   "metadata": {},
   "outputs": [],
   "source": [
    "# 피쳐 / 독립변수와 타겟/라벨/종속변수 분리\n",
    "featureDF=wineDF[wineDF.columns[:-1]]\n",
    "targetSR=wineDF[wineDF.columns[-1]]\n",
    "\n",
    "print(f'featureDF : {featureDF.shape}targetSR {targetSR.shape}')"
   ]
  },
  {
   "cell_type": "code",
   "execution_count": null,
   "metadata": {},
   "outputs": [],
   "source": [
    "X_train, X_test, y_trian , y_test= train_test_split(featureDF,targetSR,test_size=0.2,\n",
    "                                                    stratify=targetSR,\n",
    "                                                    random_state=1)"
   ]
  },
  {
   "cell_type": "code",
   "execution_count": null,
   "metadata": {},
   "outputs": [],
   "source": [
    "print(f'X_train :{X_train.shape}y_trine : {y_trian.shape}')\n",
    "print(f'X_test :{X_test.shape}y_test : {y_test.shape}')"
   ]
  },
  {
   "cell_type": "markdown",
   "metadata": {},
   "source": [
    "[3]  학습 진행"
   ]
  },
  {
   "cell_type": "code",
   "execution_count": null,
   "metadata": {},
   "outputs": [],
   "source": [
    "# 학습 방법 : 지도학습 > 분류\n",
    "# 알고리즘  : 앙상블 > 배깅 - RandomForestClassifier\n",
    "from sklearn.ensemble import RandomForestClassifier"
   ]
  },
  {
   "cell_type": "code",
   "execution_count": null,
   "metadata": {},
   "outputs": [],
   "source": [
    "#인스턴스 생성-> 100개의 내부 DT 모델에서 사용할 데이터셋 생성\n",
    "# random_state 매개변수 설정으로 고정된 데이터셋 생성\n",
    "lf_model= RandomForestClassifier(random_state=7)\n",
    "\n",
    "# g학습\n",
    "lf_model.fit(X_train, y_trian)"
   ]
  },
  {
   "cell_type": "code",
   "execution_count": null,
   "metadata": {},
   "outputs": [],
   "source": [
    "# 모델 파라미터\n",
    "print(f'classes_ : {lf_model.classes_}')\n",
    "print(f'n_classes_ : {lf_model.n_classes_}개')\n",
    "print(f'feature_names_in_ : {lf_model.feature_names_in_ }개')\n",
    "print(f'feature_names_in_ : {lf_model.n_f }개')"
   ]
  },
  {
   "cell_type": "code",
   "execution_count": null,
   "metadata": {},
   "outputs": [],
   "source": [
    "#a 모델파라미터\n",
    "print(f'classes_                    : {lf_model.estimator_}'\n",
    "      )"
   ]
  },
  {
   "cell_type": "code",
   "execution_count": null,
   "metadata": {},
   "outputs": [],
   "source": [
    "print(f'oob_score_: {lf_model.oob_score_}')"
   ]
  },
  {
   "cell_type": "markdown",
   "metadata": {},
   "source": [
    "[4]성능 평가"
   ]
  },
  {
   "cell_type": "code",
   "execution_count": null,
   "metadata": {},
   "outputs": [],
   "source": [
    "train_score =  lf_model.score(X_train, y_trian)\n",
    "test_score =  lf_model.score(X_test, y_test)"
   ]
  },
  {
   "cell_type": "code",
   "execution_count": null,
   "metadata": {},
   "outputs": [],
   "source": []
  },
  {
   "cell_type": "markdown",
   "metadata": {},
   "source": [
    "[5] 튜닝\n",
    "- RandomizedSearchCV 하이퍼파라미터 최적화 클래스\n",
    "* 범위가 넓은 하이퍼파라미터 설정에 좋음\n",
    "* 지정된 범위에서 지정된 횟수 만큼 하이퍼파라미터를 추출하여 조합 진행"
   ]
  },
  {
   "cell_type": "code",
   "execution_count": 25,
   "metadata": {},
   "outputs": [],
   "source": [
    "from sklearn.model_selection import RandomizedSearchCV"
   ]
  },
  {
   "cell_type": "code",
   "execution_count": 26,
   "metadata": {},
   "outputs": [],
   "source": [
    "# RandomForestClassifier 하이퍼파라미터\n",
    "params = {'max_depth': range(2,15),\n",
    "          'min_samples_leaf' : range(5,16)}"
   ]
  },
  {
   "cell_type": "code",
   "execution_count": 27,
   "metadata": {},
   "outputs": [],
   "source": [
    "rf_model= RandomForestClassifier(random_state=7)"
   ]
  },
  {
   "cell_type": "code",
   "execution_count": 28,
   "metadata": {},
   "outputs": [],
   "source": [
    "searchCV =  RandomizedSearchCV(rf_model,\n",
    "                               param_distributions=params,\n",
    "                               verbose=4)"
   ]
  },
  {
   "cell_type": "code",
   "execution_count": 29,
   "metadata": {},
   "outputs": [
    {
     "name": "stdout",
     "output_type": "stream",
     "text": [
      "Fitting 5 folds for each of 10 candidates, totalling 50 fits\n",
      "[CV 1/5] END ...max_depth=9, min_samples_leaf=6;, score=0.875 total time=   0.2s\n",
      "[CV 2/5] END ...max_depth=9, min_samples_leaf=6;, score=0.841 total time=   0.2s\n",
      "[CV 3/5] END ...max_depth=9, min_samples_leaf=6;, score=0.878 total time=   0.2s\n",
      "[CV 4/5] END ...max_depth=9, min_samples_leaf=6;, score=0.880 total time=   0.2s\n",
      "[CV 5/5] END ...max_depth=9, min_samples_leaf=6;, score=0.876 total time=   0.2s\n",
      "[CV 1/5] END ..max_depth=9, min_samples_leaf=15;, score=0.871 total time=   0.2s\n",
      "[CV 2/5] END ..max_depth=9, min_samples_leaf=15;, score=0.838 total time=   0.2s\n",
      "[CV 3/5] END ..max_depth=9, min_samples_leaf=15;, score=0.880 total time=   0.2s\n",
      "[CV 4/5] END ..max_depth=9, min_samples_leaf=15;, score=0.881 total time=   0.2s\n",
      "[CV 5/5] END ..max_depth=9, min_samples_leaf=15;, score=0.871 total time=   0.2s\n",
      "[CV 1/5] END ..max_depth=11, min_samples_leaf=8;, score=0.875 total time=   0.2s\n",
      "[CV 2/5] END ..max_depth=11, min_samples_leaf=8;, score=0.840 total time=   0.2s\n",
      "[CV 3/5] END ..max_depth=11, min_samples_leaf=8;, score=0.878 total time=   0.2s\n",
      "[CV 4/5] END ..max_depth=11, min_samples_leaf=8;, score=0.881 total time=   0.2s\n",
      "[CV 5/5] END ..max_depth=11, min_samples_leaf=8;, score=0.874 total time=   0.2s\n",
      "[CV 1/5] END .max_depth=11, min_samples_leaf=13;, score=0.874 total time=   0.2s\n",
      "[CV 2/5] END .max_depth=11, min_samples_leaf=13;, score=0.833 total time=   0.2s\n",
      "[CV 3/5] END .max_depth=11, min_samples_leaf=13;, score=0.872 total time=   0.2s\n",
      "[CV 4/5] END .max_depth=11, min_samples_leaf=13;, score=0.881 total time=   0.2s\n",
      "[CV 5/5] END .max_depth=11, min_samples_leaf=13;, score=0.875 total time=   0.2s\n",
      "[CV 1/5] END ..max_depth=2, min_samples_leaf=13;, score=0.756 total time=   0.1s\n",
      "[CV 2/5] END ..max_depth=2, min_samples_leaf=13;, score=0.767 total time=   0.1s\n",
      "[CV 3/5] END ..max_depth=2, min_samples_leaf=13;, score=0.771 total time=   0.1s\n",
      "[CV 4/5] END ..max_depth=2, min_samples_leaf=13;, score=0.754 total time=   0.0s\n",
      "[CV 5/5] END ..max_depth=2, min_samples_leaf=13;, score=0.754 total time=   0.0s\n",
      "[CV 1/5] END ..max_depth=5, min_samples_leaf=14;, score=0.853 total time=   0.1s\n",
      "[CV 2/5] END ..max_depth=5, min_samples_leaf=14;, score=0.835 total time=   0.2s\n",
      "[CV 3/5] END ..max_depth=5, min_samples_leaf=14;, score=0.866 total time=   0.1s\n",
      "[CV 4/5] END ..max_depth=5, min_samples_leaf=14;, score=0.875 total time=   0.2s\n",
      "[CV 5/5] END ..max_depth=5, min_samples_leaf=14;, score=0.855 total time=   0.1s\n",
      "[CV 1/5] END ..max_depth=2, min_samples_leaf=14;, score=0.756 total time=   0.1s\n",
      "[CV 2/5] END ..max_depth=2, min_samples_leaf=14;, score=0.767 total time=   0.1s\n",
      "[CV 3/5] END ..max_depth=2, min_samples_leaf=14;, score=0.771 total time=   0.1s\n",
      "[CV 4/5] END ..max_depth=2, min_samples_leaf=14;, score=0.754 total time=   0.1s\n",
      "[CV 5/5] END ..max_depth=2, min_samples_leaf=14;, score=0.754 total time=   0.1s\n",
      "[CV 1/5] END ..max_depth=4, min_samples_leaf=11;, score=0.840 total time=   0.1s\n",
      "[CV 2/5] END ..max_depth=4, min_samples_leaf=11;, score=0.838 total time=   0.1s\n",
      "[CV 3/5] END ..max_depth=4, min_samples_leaf=11;, score=0.858 total time=   0.1s\n",
      "[CV 4/5] END ..max_depth=4, min_samples_leaf=11;, score=0.859 total time=   0.1s\n",
      "[CV 5/5] END ..max_depth=4, min_samples_leaf=11;, score=0.839 total time=   0.1s\n",
      "[CV 1/5] END ...max_depth=8, min_samples_leaf=6;, score=0.874 total time=   0.2s\n",
      "[CV 2/5] END ...max_depth=8, min_samples_leaf=6;, score=0.837 total time=   0.2s\n",
      "[CV 3/5] END ...max_depth=8, min_samples_leaf=6;, score=0.875 total time=   0.2s\n",
      "[CV 4/5] END ...max_depth=8, min_samples_leaf=6;, score=0.877 total time=   0.2s\n",
      "[CV 5/5] END ...max_depth=8, min_samples_leaf=6;, score=0.868 total time=   0.2s\n",
      "[CV 1/5] END ..max_depth=8, min_samples_leaf=11;, score=0.871 total time=   0.2s\n",
      "[CV 2/5] END ..max_depth=8, min_samples_leaf=11;, score=0.840 total time=   0.2s\n",
      "[CV 3/5] END ..max_depth=8, min_samples_leaf=11;, score=0.876 total time=   0.2s\n",
      "[CV 4/5] END ..max_depth=8, min_samples_leaf=11;, score=0.883 total time=   0.2s\n",
      "[CV 5/5] END ..max_depth=8, min_samples_leaf=11;, score=0.865 total time=   0.2s\n"
     ]
    },
    {
     "data": {
      "text/html": [
       "<style>#sk-container-id-2 {color: black;}#sk-container-id-2 pre{padding: 0;}#sk-container-id-2 div.sk-toggleable {background-color: white;}#sk-container-id-2 label.sk-toggleable__label {cursor: pointer;display: block;width: 100%;margin-bottom: 0;padding: 0.3em;box-sizing: border-box;text-align: center;}#sk-container-id-2 label.sk-toggleable__label-arrow:before {content: \"▸\";float: left;margin-right: 0.25em;color: #696969;}#sk-container-id-2 label.sk-toggleable__label-arrow:hover:before {color: black;}#sk-container-id-2 div.sk-estimator:hover label.sk-toggleable__label-arrow:before {color: black;}#sk-container-id-2 div.sk-toggleable__content {max-height: 0;max-width: 0;overflow: hidden;text-align: left;background-color: #f0f8ff;}#sk-container-id-2 div.sk-toggleable__content pre {margin: 0.2em;color: black;border-radius: 0.25em;background-color: #f0f8ff;}#sk-container-id-2 input.sk-toggleable__control:checked~div.sk-toggleable__content {max-height: 200px;max-width: 100%;overflow: auto;}#sk-container-id-2 input.sk-toggleable__control:checked~label.sk-toggleable__label-arrow:before {content: \"▾\";}#sk-container-id-2 div.sk-estimator input.sk-toggleable__control:checked~label.sk-toggleable__label {background-color: #d4ebff;}#sk-container-id-2 div.sk-label input.sk-toggleable__control:checked~label.sk-toggleable__label {background-color: #d4ebff;}#sk-container-id-2 input.sk-hidden--visually {border: 0;clip: rect(1px 1px 1px 1px);clip: rect(1px, 1px, 1px, 1px);height: 1px;margin: -1px;overflow: hidden;padding: 0;position: absolute;width: 1px;}#sk-container-id-2 div.sk-estimator {font-family: monospace;background-color: #f0f8ff;border: 1px dotted black;border-radius: 0.25em;box-sizing: border-box;margin-bottom: 0.5em;}#sk-container-id-2 div.sk-estimator:hover {background-color: #d4ebff;}#sk-container-id-2 div.sk-parallel-item::after {content: \"\";width: 100%;border-bottom: 1px solid gray;flex-grow: 1;}#sk-container-id-2 div.sk-label:hover label.sk-toggleable__label {background-color: #d4ebff;}#sk-container-id-2 div.sk-serial::before {content: \"\";position: absolute;border-left: 1px solid gray;box-sizing: border-box;top: 0;bottom: 0;left: 50%;z-index: 0;}#sk-container-id-2 div.sk-serial {display: flex;flex-direction: column;align-items: center;background-color: white;padding-right: 0.2em;padding-left: 0.2em;position: relative;}#sk-container-id-2 div.sk-item {position: relative;z-index: 1;}#sk-container-id-2 div.sk-parallel {display: flex;align-items: stretch;justify-content: center;background-color: white;position: relative;}#sk-container-id-2 div.sk-item::before, #sk-container-id-2 div.sk-parallel-item::before {content: \"\";position: absolute;border-left: 1px solid gray;box-sizing: border-box;top: 0;bottom: 0;left: 50%;z-index: -1;}#sk-container-id-2 div.sk-parallel-item {display: flex;flex-direction: column;z-index: 1;position: relative;background-color: white;}#sk-container-id-2 div.sk-parallel-item:first-child::after {align-self: flex-end;width: 50%;}#sk-container-id-2 div.sk-parallel-item:last-child::after {align-self: flex-start;width: 50%;}#sk-container-id-2 div.sk-parallel-item:only-child::after {width: 0;}#sk-container-id-2 div.sk-dashed-wrapped {border: 1px dashed gray;margin: 0 0.4em 0.5em 0.4em;box-sizing: border-box;padding-bottom: 0.4em;background-color: white;}#sk-container-id-2 div.sk-label label {font-family: monospace;font-weight: bold;display: inline-block;line-height: 1.2em;}#sk-container-id-2 div.sk-label-container {text-align: center;}#sk-container-id-2 div.sk-container {/* jupyter's `normalize.less` sets `[hidden] { display: none; }` but bootstrap.min.css set `[hidden] { display: none !important; }` so we also need the `!important` here to be able to override the default hidden behavior on the sphinx rendered scikit-learn.org. See: https://github.com/scikit-learn/scikit-learn/issues/21755 */display: inline-block !important;position: relative;}#sk-container-id-2 div.sk-text-repr-fallback {display: none;}</style><div id=\"sk-container-id-2\" class=\"sk-top-container\"><div class=\"sk-text-repr-fallback\"><pre>RandomizedSearchCV(estimator=RandomForestClassifier(random_state=7),\n",
       "                   param_distributions={&#x27;max_depth&#x27;: range(2, 15),\n",
       "                                        &#x27;min_samples_leaf&#x27;: range(5, 16)},\n",
       "                   verbose=4)</pre><b>In a Jupyter environment, please rerun this cell to show the HTML representation or trust the notebook. <br />On GitHub, the HTML representation is unable to render, please try loading this page with nbviewer.org.</b></div><div class=\"sk-container\" hidden><div class=\"sk-item sk-dashed-wrapped\"><div class=\"sk-label-container\"><div class=\"sk-label sk-toggleable\"><input class=\"sk-toggleable__control sk-hidden--visually\" id=\"sk-estimator-id-2\" type=\"checkbox\" ><label for=\"sk-estimator-id-2\" class=\"sk-toggleable__label sk-toggleable__label-arrow\">RandomizedSearchCV</label><div class=\"sk-toggleable__content\"><pre>RandomizedSearchCV(estimator=RandomForestClassifier(random_state=7),\n",
       "                   param_distributions={&#x27;max_depth&#x27;: range(2, 15),\n",
       "                                        &#x27;min_samples_leaf&#x27;: range(5, 16)},\n",
       "                   verbose=4)</pre></div></div></div><div class=\"sk-parallel\"><div class=\"sk-parallel-item\"><div class=\"sk-item\"><div class=\"sk-label-container\"><div class=\"sk-label sk-toggleable\"><input class=\"sk-toggleable__control sk-hidden--visually\" id=\"sk-estimator-id-3\" type=\"checkbox\" ><label for=\"sk-estimator-id-3\" class=\"sk-toggleable__label sk-toggleable__label-arrow\">estimator: RandomForestClassifier</label><div class=\"sk-toggleable__content\"><pre>RandomForestClassifier(random_state=7)</pre></div></div></div><div class=\"sk-serial\"><div class=\"sk-item\"><div class=\"sk-estimator sk-toggleable\"><input class=\"sk-toggleable__control sk-hidden--visually\" id=\"sk-estimator-id-4\" type=\"checkbox\" ><label for=\"sk-estimator-id-4\" class=\"sk-toggleable__label sk-toggleable__label-arrow\">RandomForestClassifier</label><div class=\"sk-toggleable__content\"><pre>RandomForestClassifier(random_state=7)</pre></div></div></div></div></div></div></div></div></div></div>"
      ],
      "text/plain": [
       "RandomizedSearchCV(estimator=RandomForestClassifier(random_state=7),\n",
       "                   param_distributions={'max_depth': range(2, 15),\n",
       "                                        'min_samples_leaf': range(5, 16)},\n",
       "                   verbose=4)"
      ]
     },
     "execution_count": 29,
     "metadata": {},
     "output_type": "execute_result"
    }
   ],
   "source": [
    "searchCV.fit(X_train, y_trian)"
   ]
  },
  {
   "cell_type": "code",
   "execution_count": 32,
   "metadata": {},
   "outputs": [
    {
     "name": "stdout",
     "output_type": "stream",
     "text": [
      "[searchCV.best_score_]0.8699294810098467\n",
      "[searchCV.best_params_]{'min_samples_leaf': 6, 'max_depth': 9}\n",
      "[searchCV.best_estimator_]RandomForestClassifier(max_depth=9, min_samples_leaf=6, random_state=7)\n"
     ]
    },
    {
     "data": {
      "text/html": [
       "<div>\n",
       "<style scoped>\n",
       "    .dataframe tbody tr th:only-of-type {\n",
       "        vertical-align: middle;\n",
       "    }\n",
       "\n",
       "    .dataframe tbody tr th {\n",
       "        vertical-align: top;\n",
       "    }\n",
       "\n",
       "    .dataframe thead th {\n",
       "        text-align: right;\n",
       "    }\n",
       "</style>\n",
       "<table border=\"1\" class=\"dataframe\">\n",
       "  <thead>\n",
       "    <tr style=\"text-align: right;\">\n",
       "      <th></th>\n",
       "      <th>mean_fit_time</th>\n",
       "      <th>std_fit_time</th>\n",
       "      <th>mean_score_time</th>\n",
       "      <th>std_score_time</th>\n",
       "      <th>param_min_samples_leaf</th>\n",
       "      <th>param_max_depth</th>\n",
       "      <th>params</th>\n",
       "      <th>split0_test_score</th>\n",
       "      <th>split1_test_score</th>\n",
       "      <th>split2_test_score</th>\n",
       "      <th>split3_test_score</th>\n",
       "      <th>split4_test_score</th>\n",
       "      <th>mean_test_score</th>\n",
       "      <th>std_test_score</th>\n",
       "      <th>rank_test_score</th>\n",
       "    </tr>\n",
       "  </thead>\n",
       "  <tbody>\n",
       "    <tr>\n",
       "      <th>0</th>\n",
       "      <td>0.282648</td>\n",
       "      <td>0.014238</td>\n",
       "      <td>0.015705</td>\n",
       "      <td>0.001275</td>\n",
       "      <td>6</td>\n",
       "      <td>9</td>\n",
       "      <td>{'min_samples_leaf': 6, 'max_depth': 9}</td>\n",
       "      <td>0.875000</td>\n",
       "      <td>0.841346</td>\n",
       "      <td>0.877767</td>\n",
       "      <td>0.879692</td>\n",
       "      <td>0.875842</td>\n",
       "      <td>0.869929</td>\n",
       "      <td>0.014383</td>\n",
       "      <td>1</td>\n",
       "    </tr>\n",
       "    <tr>\n",
       "      <th>1</th>\n",
       "      <td>0.246728</td>\n",
       "      <td>0.012680</td>\n",
       "      <td>0.016728</td>\n",
       "      <td>0.001451</td>\n",
       "      <td>15</td>\n",
       "      <td>9</td>\n",
       "      <td>{'min_samples_leaf': 15, 'max_depth': 9}</td>\n",
       "      <td>0.871154</td>\n",
       "      <td>0.837500</td>\n",
       "      <td>0.879692</td>\n",
       "      <td>0.880654</td>\n",
       "      <td>0.871030</td>\n",
       "      <td>0.868006</td>\n",
       "      <td>0.015787</td>\n",
       "      <td>3</td>\n",
       "    </tr>\n",
       "    <tr>\n",
       "      <th>2</th>\n",
       "      <td>0.289315</td>\n",
       "      <td>0.015469</td>\n",
       "      <td>0.016670</td>\n",
       "      <td>0.001169</td>\n",
       "      <td>8</td>\n",
       "      <td>11</td>\n",
       "      <td>{'min_samples_leaf': 8, 'max_depth': 11}</td>\n",
       "      <td>0.875000</td>\n",
       "      <td>0.840385</td>\n",
       "      <td>0.877767</td>\n",
       "      <td>0.880654</td>\n",
       "      <td>0.873917</td>\n",
       "      <td>0.869545</td>\n",
       "      <td>0.014766</td>\n",
       "      <td>2</td>\n",
       "    </tr>\n",
       "    <tr>\n",
       "      <th>3</th>\n",
       "      <td>0.263004</td>\n",
       "      <td>0.016849</td>\n",
       "      <td>0.022999</td>\n",
       "      <td>0.015677</td>\n",
       "      <td>13</td>\n",
       "      <td>11</td>\n",
       "      <td>{'min_samples_leaf': 13, 'max_depth': 11}</td>\n",
       "      <td>0.874038</td>\n",
       "      <td>0.832692</td>\n",
       "      <td>0.871992</td>\n",
       "      <td>0.880654</td>\n",
       "      <td>0.874880</td>\n",
       "      <td>0.866851</td>\n",
       "      <td>0.017320</td>\n",
       "      <td>5</td>\n",
       "    </tr>\n",
       "    <tr>\n",
       "      <th>4</th>\n",
       "      <td>0.153396</td>\n",
       "      <td>0.019877</td>\n",
       "      <td>0.010871</td>\n",
       "      <td>0.000883</td>\n",
       "      <td>13</td>\n",
       "      <td>2</td>\n",
       "      <td>{'min_samples_leaf': 13, 'max_depth': 2}</td>\n",
       "      <td>0.755769</td>\n",
       "      <td>0.767308</td>\n",
       "      <td>0.770934</td>\n",
       "      <td>0.753609</td>\n",
       "      <td>0.753609</td>\n",
       "      <td>0.760246</td>\n",
       "      <td>0.007379</td>\n",
       "      <td>9</td>\n",
       "    </tr>\n",
       "    <tr>\n",
       "      <th>5</th>\n",
       "      <td>0.220200</td>\n",
       "      <td>0.019024</td>\n",
       "      <td>0.013112</td>\n",
       "      <td>0.000784</td>\n",
       "      <td>14</td>\n",
       "      <td>5</td>\n",
       "      <td>{'min_samples_leaf': 14, 'max_depth': 5}</td>\n",
       "      <td>0.852885</td>\n",
       "      <td>0.834615</td>\n",
       "      <td>0.866218</td>\n",
       "      <td>0.874880</td>\n",
       "      <td>0.854668</td>\n",
       "      <td>0.856653</td>\n",
       "      <td>0.013620</td>\n",
       "      <td>7</td>\n",
       "    </tr>\n",
       "    <tr>\n",
       "      <th>6</th>\n",
       "      <td>0.148293</td>\n",
       "      <td>0.002541</td>\n",
       "      <td>0.010053</td>\n",
       "      <td>0.000548</td>\n",
       "      <td>14</td>\n",
       "      <td>2</td>\n",
       "      <td>{'min_samples_leaf': 14, 'max_depth': 2}</td>\n",
       "      <td>0.755769</td>\n",
       "      <td>0.767308</td>\n",
       "      <td>0.770934</td>\n",
       "      <td>0.753609</td>\n",
       "      <td>0.753609</td>\n",
       "      <td>0.760246</td>\n",
       "      <td>0.007379</td>\n",
       "      <td>9</td>\n",
       "    </tr>\n",
       "    <tr>\n",
       "      <th>7</th>\n",
       "      <td>0.177975</td>\n",
       "      <td>0.004377</td>\n",
       "      <td>0.011661</td>\n",
       "      <td>0.001127</td>\n",
       "      <td>11</td>\n",
       "      <td>4</td>\n",
       "      <td>{'min_samples_leaf': 11, 'max_depth': 4}</td>\n",
       "      <td>0.840385</td>\n",
       "      <td>0.838462</td>\n",
       "      <td>0.857555</td>\n",
       "      <td>0.858518</td>\n",
       "      <td>0.839269</td>\n",
       "      <td>0.846838</td>\n",
       "      <td>0.009169</td>\n",
       "      <td>8</td>\n",
       "    </tr>\n",
       "    <tr>\n",
       "      <th>8</th>\n",
       "      <td>0.278976</td>\n",
       "      <td>0.010970</td>\n",
       "      <td>0.015810</td>\n",
       "      <td>0.001505</td>\n",
       "      <td>6</td>\n",
       "      <td>8</td>\n",
       "      <td>{'min_samples_leaf': 6, 'max_depth': 8}</td>\n",
       "      <td>0.874038</td>\n",
       "      <td>0.836538</td>\n",
       "      <td>0.874880</td>\n",
       "      <td>0.876805</td>\n",
       "      <td>0.868142</td>\n",
       "      <td>0.866081</td>\n",
       "      <td>0.015052</td>\n",
       "      <td>6</td>\n",
       "    </tr>\n",
       "    <tr>\n",
       "      <th>9</th>\n",
       "      <td>0.249981</td>\n",
       "      <td>0.011065</td>\n",
       "      <td>0.015818</td>\n",
       "      <td>0.002305</td>\n",
       "      <td>11</td>\n",
       "      <td>8</td>\n",
       "      <td>{'min_samples_leaf': 11, 'max_depth': 8}</td>\n",
       "      <td>0.871154</td>\n",
       "      <td>0.840385</td>\n",
       "      <td>0.875842</td>\n",
       "      <td>0.882579</td>\n",
       "      <td>0.865255</td>\n",
       "      <td>0.867043</td>\n",
       "      <td>0.014488</td>\n",
       "      <td>4</td>\n",
       "    </tr>\n",
       "  </tbody>\n",
       "</table>\n",
       "</div>"
      ],
      "text/plain": [
       "   mean_fit_time  std_fit_time  mean_score_time  std_score_time  \\\n",
       "0       0.282648      0.014238         0.015705        0.001275   \n",
       "1       0.246728      0.012680         0.016728        0.001451   \n",
       "2       0.289315      0.015469         0.016670        0.001169   \n",
       "3       0.263004      0.016849         0.022999        0.015677   \n",
       "4       0.153396      0.019877         0.010871        0.000883   \n",
       "5       0.220200      0.019024         0.013112        0.000784   \n",
       "6       0.148293      0.002541         0.010053        0.000548   \n",
       "7       0.177975      0.004377         0.011661        0.001127   \n",
       "8       0.278976      0.010970         0.015810        0.001505   \n",
       "9       0.249981      0.011065         0.015818        0.002305   \n",
       "\n",
       "  param_min_samples_leaf param_max_depth  \\\n",
       "0                      6               9   \n",
       "1                     15               9   \n",
       "2                      8              11   \n",
       "3                     13              11   \n",
       "4                     13               2   \n",
       "5                     14               5   \n",
       "6                     14               2   \n",
       "7                     11               4   \n",
       "8                      6               8   \n",
       "9                     11               8   \n",
       "\n",
       "                                      params  split0_test_score  \\\n",
       "0    {'min_samples_leaf': 6, 'max_depth': 9}           0.875000   \n",
       "1   {'min_samples_leaf': 15, 'max_depth': 9}           0.871154   \n",
       "2   {'min_samples_leaf': 8, 'max_depth': 11}           0.875000   \n",
       "3  {'min_samples_leaf': 13, 'max_depth': 11}           0.874038   \n",
       "4   {'min_samples_leaf': 13, 'max_depth': 2}           0.755769   \n",
       "5   {'min_samples_leaf': 14, 'max_depth': 5}           0.852885   \n",
       "6   {'min_samples_leaf': 14, 'max_depth': 2}           0.755769   \n",
       "7   {'min_samples_leaf': 11, 'max_depth': 4}           0.840385   \n",
       "8    {'min_samples_leaf': 6, 'max_depth': 8}           0.874038   \n",
       "9   {'min_samples_leaf': 11, 'max_depth': 8}           0.871154   \n",
       "\n",
       "   split1_test_score  split2_test_score  split3_test_score  split4_test_score  \\\n",
       "0           0.841346           0.877767           0.879692           0.875842   \n",
       "1           0.837500           0.879692           0.880654           0.871030   \n",
       "2           0.840385           0.877767           0.880654           0.873917   \n",
       "3           0.832692           0.871992           0.880654           0.874880   \n",
       "4           0.767308           0.770934           0.753609           0.753609   \n",
       "5           0.834615           0.866218           0.874880           0.854668   \n",
       "6           0.767308           0.770934           0.753609           0.753609   \n",
       "7           0.838462           0.857555           0.858518           0.839269   \n",
       "8           0.836538           0.874880           0.876805           0.868142   \n",
       "9           0.840385           0.875842           0.882579           0.865255   \n",
       "\n",
       "   mean_test_score  std_test_score  rank_test_score  \n",
       "0         0.869929        0.014383                1  \n",
       "1         0.868006        0.015787                3  \n",
       "2         0.869545        0.014766                2  \n",
       "3         0.866851        0.017320                5  \n",
       "4         0.760246        0.007379                9  \n",
       "5         0.856653        0.013620                7  \n",
       "6         0.760246        0.007379                9  \n",
       "7         0.846838        0.009169                8  \n",
       "8         0.866081        0.015052                6  \n",
       "9         0.867043        0.014488                4  "
      ]
     },
     "execution_count": 32,
     "metadata": {},
     "output_type": "execute_result"
    }
   ],
   "source": [
    "#  모델 파라미터\n",
    "print(f'[searchCV.best_score_]{searchCV.best_score_}')\n",
    "print(f'[searchCV.best_params_]{searchCV.best_params_}')\n",
    "print(f'[searchCV.best_estimator_]{searchCV.best_estimator_}')\n",
    "\n",
    "cv_resultDF =pd.DataFrame(searchCV.cv_results_)\n",
    "cv_resultDF"
   ]
  },
  {
   "cell_type": "code",
   "execution_count": null,
   "metadata": {},
   "outputs": [],
   "source": []
  }
 ],
 "metadata": {
  "kernelspec": {
   "display_name": "ML_38",
   "language": "python",
   "name": "python3"
  },
  "language_info": {
   "codemirror_mode": {
    "name": "ipython",
    "version": 3
   },
   "file_extension": ".py",
   "mimetype": "text/x-python",
   "name": "python",
   "nbconvert_exporter": "python",
   "pygments_lexer": "ipython3",
   "version": "3.8.19"
  }
 },
 "nbformat": 4,
 "nbformat_minor": 2
}
