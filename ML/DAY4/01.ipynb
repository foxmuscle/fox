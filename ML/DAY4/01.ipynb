{
 "cells": [
  {
   "cell_type": "markdown",
   "metadata": {},
   "source": [
    "## Feature Selection\n",
    "\n",
    "### Filtering 방법\n",
    "- 타겟/ 종속변수에 관련성이 높은 피쳐/ 독립변수 선택\n",
    "- 상관계수\n",
    "- 몇개? K 개 => 점진적으로 늘려가기\n",
    "### Wrapper방법\n",
    "- Forward 방식: 기준에 따라 k 개 피처를 선택 => 성능평가 => 피쳐추가\n",
    "- Backward방식 : 모든 피쳐 선택 => 성능평가 => 피쳐제거\n",
    "- Step-Wide 방식 : Forward +Backward\n",
    "\n",
    "### Embedding방법\n",
    "- 모델 내부에 피쳐 선택 기능 포함 된것 => Important Feature, 주성분분석(PCA)\n"
   ]
  },
  {
   "cell_type": "markdown",
   "metadata": {},
   "source": [
    "## Tunning => 모델 수정\n",
    "\n",
    "###  모델의 성능 높이기\n",
    "- scikit-learn 에서 인스턴스이 score 메서드\n",
    "- 모델을 평가기준이 되는 성능지표 => 분류 / 회귀에 따라서 다름\n",
    "\n",
    "### 모델 성능에 영향을 미치는 매개변수 => Hyper-parameter\n",
    "- KNN => K 개수\n",
    "- LinearRegression => 가중치, 기울기 초기화 값, 규제\n",
    "- 학습 알고리즘마다 Hyper-parameter 가 다름!\n",
    "\n",
    "### 피쳐 제어\n",
    "- 피쳐 개수 조절\n",
    "- 피쳐 추출/ 압축\n"
   ]
  },
  {
   "cell_type": "markdown",
   "metadata": {},
   "source": [
    "## AutoML\n",
    "- "
   ]
  },
  {
   "cell_type": "code",
   "execution_count": null,
   "metadata": {},
   "outputs": [],
   "source": []
  },
  {
   "cell_type": "markdown",
   "metadata": {},
   "source": [
    "기계학습\n",
    "데이터 기반 => 규칙/패턴 => 수식 => 모델\n",
    "\n",
    "미래 예측 \n",
    "정보 정확 제공\n",
    "\n",
    "학습용DS ==> 학습용  +테스트용\n",
    "테스트용 DS ( 과대 적합 과소적합 알아보기  )"
   ]
  },
  {
   "cell_type": "markdown",
   "metadata": {},
   "source": [
    "### ML Process\n",
    "- 데이터 준비 \n",
    "    * => 데이터 로딩, 데이터 확인(실제 데이터 확인 및 탐색)\n",
    "\n",
    "- 데이터 전처리 \n",
    "    * => 정제 (결측치, 중복값, 이상치 , 컬럼 고유값...)\n",
    "    * => 피쳐에 대한 처리 ( 인코딩, 스케일링...)\n",
    "    * =>피쳐 선택 가공\n",
    "    * => 피쳐와 타겟(독립변수와 종속변수)\n",
    "\n",
    "- 학습준비 \n",
    "    * => 데이터셋(train, validation, test)\n",
    "     * => 데이터 부족 및 일반화 위해서  train, test 데이터 셋 분리\n",
    "\n",
    "- 학습 진행\n",
    "    * =>교차검증으로 학습진행 : train 데이터셋 사용\n",
    "    \n",
    "- 모델 평가\n",
    "    * => test 데이터셋으로 평가\n",
    "    * => 평가기준: 분류와 회귀가 다름!\n",
    "\n",
    "### 모델의 성능을 높이는 작업 즉, 튜닝 진행\n",
    "- Hyper Parameter 제어 : 모델 인스턴스 생성 시 매개변수로 설정\n",
    "- 새로운 모델로 학습진행  => 평가\n",
    "        "
   ]
  },
  {
   "cell_type": "markdown",
   "metadata": {},
   "source": []
  }
 ],
 "metadata": {
  "kernelspec": {
   "display_name": "ML_38",
   "language": "python",
   "name": "python3"
  },
  "language_info": {
   "name": "python",
   "version": "3.8.19"
  }
 },
 "nbformat": 4,
 "nbformat_minor": 2
}
