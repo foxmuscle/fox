{
 "cells": [
  {
   "cell_type": "markdown",
   "metadata": {},
   "source": [
    "- 데이터셋 : lang.zip 사용해서 생성 -> ㅊㄴㅍ,"
   ]
  },
  {
   "cell_type": "code",
   "execution_count": 1,
   "metadata": {},
   "outputs": [],
   "source": [
    "# 모듈 로딩 \n",
    "import pandas as pd\n",
    "import os\n",
    "from collections import Counter"
   ]
  },
  {
   "cell_type": "code",
   "execution_count": 7,
   "metadata": {},
   "outputs": [],
   "source": [
    "# 데이터 파일 \n",
    "TRAIN_PATH = '../data/lang/train/'\n",
    "TEST_PATH='../data/lang/test'\n",
    "\n",
    "TRAIN_CSV='../data/lang_train.csv'\n",
    "TEST_CSV= '/data/test/lang_test.csv'"
   ]
  },
  {
   "cell_type": "code",
   "execution_count": 8,
   "metadata": {},
   "outputs": [
    {
     "name": "stdout",
     "output_type": "stream",
     "text": [
      "../data/lang_train.csv 파일이 없습니다.\n"
     ]
    }
   ],
   "source": [
    "#  파일 열기 => open()->read(),readline(), readlines() -> close()\n",
    "# => with open() as  구문\n",
    "\n",
    "if not os.path.exists(TRAIN_CSV) :\n",
    "    print(f'{TRAIN_CSV} 파일이 없습니다.')\n",
    "else : \n",
    "    with open(TRAIN_CSV, mode='r')as f :\n",
    "        alldata=f.read()\n",
    "        print(f'[File Data]{alldata}')"
   ]
  },
  {
   "cell_type": "code",
   "execution_count": 9,
   "metadata": {},
   "outputs": [
    {
     "name": "stdout",
     "output_type": "stream",
     "text": [
      "en-1.txt ../data/lang/train/en-1.txt True\n",
      " alldata => 5358\n",
      "alldata => 4595\n",
      "Counter({'e': 484, 'o': 412, 't': 370, 'r': 357, 'n': 356, 'a': 349, 'i': 340, 's': 282, 'l': 247, 'd': 212, 'c': 210, 'h': 201, 'm': 121, 'u': 119, 'y': 92, 'g': 88, 'p': 76, 'f': 72, 'w': 65, 'b': 59, 'v': 45, 'k': 25, 'j': 8, 'x': 3, 'z': 2})\n"
     ]
    }
   ],
   "source": [
    "# 폴더 안에 파일  및 폴더 를 가져오기\n",
    "files= os.listdir(TRAIN_PATH)\n",
    "\n",
    "for file in files :\n",
    "    print(file, TRAIN_PATH+ file, os.path.exists(TRAIN_PATH+file))\n",
    "    label=file[:2]\n",
    "    # print(f'Label => {label}')\n",
    "\n",
    "    with open(TRAIN_PATH + file, mode='r')as f:\n",
    "        alldata=f.read()\n",
    "        # print(f'[File Data]{file.rdad()}')\n",
    "    # print(f'alldata => {alldata}')\n",
    "\n",
    "    #ㄷ 대소문자 통일\n",
    "    alldata=alldata.lower()\n",
    "    # print(f'alldata=>{alldata}')\n",
    "\n",
    "    # 알파벳 아닌 문자들 제거\n",
    "    alldata= alldata.replace('\\n','')\n",
    "    print(f' alldata => {len(alldata)}')\n",
    "\n",
    "    for ch in alldata:\n",
    "        if ord('a') >ord(ch) or  ord(ch) > ord('z'):\n",
    "            alldata=alldata.replace(ch,'')\n",
    "    print(f'alldata => {len (alldata)}')\n",
    "\n",
    "    with open(T)\n",
    "    #  - a~z  개수 카운팅\n",
    "\n",
    "    print(Counter(alldata))\n",
    "    # data={}\n",
    "    # for ch in alldata :\n",
    "    #     if ch in data :\n",
    "    #         data[ch]=data[ch]+1\n",
    "    #     else:\n",
    "    #         data[ch]=1\n",
    "    # print(data)\n",
    "    break\n"
   ]
  },
  {
   "cell_type": "code",
   "execution_count": null,
   "metadata": {},
   "outputs": [],
   "source": [
    "def make_dataset(dir_path, file_path) :\n",
    "    k"
   ]
  },
  {
   "cell_type": "code",
   "execution_count": 9,
   "metadata": {},
   "outputs": [
    {
     "data": {
      "text/plain": [
       "5"
      ]
     },
     "execution_count": 9,
     "metadata": {},
     "output_type": "execute_result"
    }
   ],
   "source": [
    "'abcabcabcabca'.count('a')"
   ]
  },
  {
   "cell_type": "code",
   "execution_count": null,
   "metadata": {},
   "outputs": [],
   "source": [
    "[str(value)   ]\n",
    "\n"
   ]
  },
  {
   "cell_type": "code",
   "execution_count": 7,
   "metadata": {},
   "outputs": [
    {
     "name": "stdout",
     "output_type": "stream",
     "text": [
      "25,15,22\n",
      "45,28,66\n",
      "#안녕ㅋㅋㅋㅋㅋㅋㅋㅋㅋㅋㅋㅋㅋㅋㅋㅋㅋㅋㅋㅋㅋㅋㅋㅋㅋ\n"
     ]
    }
   ],
   "source": [
    "# 파일 읽고 쓰기\n",
    "#파일 쓰기  => mode = 'w' : 파일이 존재하면 덮어쓰기 , 파일이 없으면 생성 후 쓰기\n",
    "#          => mode = 'a' : 파일이 존재하면 추가하기 , 파일이 없으면 생성 후 쓰기\n",
    "with open ('../data/lang_train.csv',mode = 'r' )as f :\n",
    "    with open('backup.csv', mode='w')  as wf :    # 'a','r','w'  \n",
    "        data = f.read()\n",
    "        wf.write(data)\n",
    "print(data)"
   ]
  },
  {
   "cell_type": "code",
   "execution_count": 8,
   "metadata": {},
   "outputs": [
    {
     "ename": "NameError",
     "evalue": "name 'Counter' is not defined",
     "output_type": "error",
     "traceback": [
      "\u001b[1;31m---------------------------------------------------------------------------\u001b[0m",
      "\u001b[1;31mNameError\u001b[0m                                 Traceback (most recent call last)",
      "Cell \u001b[1;32mIn[8], line 1\u001b[0m\n\u001b[1;32m----> 1\u001b[0m cc\u001b[38;5;241m=\u001b[39m \u001b[38;5;28mdict\u001b[39m (\u001b[43mCounter\u001b[49m(alldata))\n\u001b[0;32m      2\u001b[0m \u001b[38;5;28mlist\u001b[39m(cc\u001b[38;5;241m.\u001b[39mvalues)\n",
      "\u001b[1;31mNameError\u001b[0m: name 'Counter' is not defined"
     ]
    }
   ],
   "source": [
    "cc= dict (Counter(alldata))\n",
    "list(cc.values)"
   ]
  },
  {
   "cell_type": "code",
   "execution_count": null,
   "metadata": {},
   "outputs": [],
   "source": [
    "classification_report()"
   ]
  }
 ],
 "metadata": {
  "kernelspec": {
   "display_name": "ML_38",
   "language": "python",
   "name": "python3"
  },
  "language_info": {
   "codemirror_mode": {
    "name": "ipython",
    "version": 3
   },
   "file_extension": ".py",
   "mimetype": "text/x-python",
   "name": "python",
   "nbconvert_exporter": "python",
   "pygments_lexer": "ipython3",
   "version": "3.8.19"
  }
 },
 "nbformat": 4,
 "nbformat_minor": 2
}
