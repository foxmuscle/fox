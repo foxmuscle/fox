{
 "cells": [
  {
   "cell_type": "code",
   "execution_count": 3,
   "metadata": {},
   "outputs": [],
   "source": [
    "stopwords=['및','등','분','수','관련','차','위','를','를','시','비','통해']"
   ]
  },
  {
   "cell_type": "code",
   "execution_count": 4,
   "metadata": {},
   "outputs": [],
   "source": [
    "rrr = [('AI', 188), ('및', 177), ('지원', 140), ('경험', 129), ('개발', 127), ('등', 120), ('분', 91), ('모델', 89), ('수', 84), ('기술', 74), ('관련', 62), ('기반', 58), ('데이터', 58), ('서비스', 57), ('러닝', 55), ('위', 48), ('차', 48), ('활용', 47), ('딥', 46), ('를', 45), ('학습', 43), ('면접', 42), ('제공', 41), ('분석', 40), ('LLM', 39), ('솔루션', 37), ('시', 37), ('기업', 36), ('비', 36), ('연구', 35), ('교육', 35), ('처리', 35), ('채용', 34), ('서류', 34), ('문제', 34), ('보유', 33), ('사업', 32), ('이상', 32), ('경력', 31), ('통해', 31), ('선 정', 31), ('운영', 30), ('전형', 30), ('진행', 29), ('지급', 29), ('시스템', 28), ('최적화', 27), ('대한', 26), ('제품', 26), ('지식', 25)]"
   ]
  },
  {
   "cell_type": "code",
   "execution_count": 5,
   "metadata": {},
   "outputs": [
    {
     "name": "stdout",
     "output_type": "stream",
     "text": [
      "[1, 5, 6, 8, 10, 16, 15, 19, 19, 26, 28, 39]\n"
     ]
    }
   ],
   "source": [
    "pop_list = []\n",
    "for word in stopwords:\n",
    "\n",
    "    for i, val in enumerate(rrr):\n",
    "\n",
    "        if word in val: pop_list.append(i)\n",
    "\n",
    "print(pop_list)"
   ]
  },
  {
   "cell_type": "code",
   "execution_count": null,
   "metadata": {},
   "outputs": [],
   "source": [
    "for i in pop_list:\n",
    "    tags_dict.pop(i)"
   ]
  }
 ],
 "metadata": {
  "kernelspec": {
   "display_name": "py_39",
   "language": "python",
   "name": "python3"
  },
  "language_info": {
   "codemirror_mode": {
    "name": "ipython",
    "version": 3
   },
   "file_extension": ".py",
   "mimetype": "text/x-python",
   "name": "python",
   "nbconvert_exporter": "python",
   "pygments_lexer": "ipython3",
   "version": "3.9.19"
  }
 },
 "nbformat": 4,
 "nbformat_minor": 2
}
