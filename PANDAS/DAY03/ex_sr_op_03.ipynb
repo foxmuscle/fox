{
 "cells": [
  {
   "cell_type": "markdown",
   "metadata": {},
   "source": [
    "### [Siries 연산 -3]\n",
    "-  원소값이 비어 있는 경우\n",
    "-  인덱스가 서로 다른 Series 경우"
   ]
  },
  {
   "cell_type": "code",
   "execution_count": 32,
   "metadata": {},
   "outputs": [],
   "source": [
    "# 모듈로딩\n",
    "import pandas as pd\n",
    "import math\n",
    "import numpy as np\n"
   ]
  },
  {
   "cell_type": "code",
   "execution_count": 33,
   "metadata": {},
   "outputs": [
    {
     "data": {
      "text/plain": [
       "(nan, nan)"
      ]
     },
     "execution_count": 33,
     "metadata": {},
     "output_type": "execute_result"
    }
   ],
   "source": [
    "#빈간 즉 ,비어 있다는 의미를 나타내는 문자 ==> pandas에 없음\n",
    "# amth 모듈과 numpy 패키지를 사용\n",
    "math.nan ,np.NAN"
   ]
  },
  {
   "cell_type": "code",
   "execution_count": 34,
   "metadata": {},
   "outputs": [],
   "source": [
    "#[2] 데이터 준비\n",
    "bibibig=[13,600,np.NaN,1500]\n",
    "merona=[32,700,1200,1500]"
   ]
  },
  {
   "cell_type": "code",
   "execution_count": 35,
   "metadata": {},
   "outputs": [],
   "source": [
    "#[3] 1D List ==> Series 형태저장\n",
    "sr1=pd.Series(bibibig)\n",
    "sr2=pd.Series(merona)"
   ]
  },
  {
   "cell_type": "code",
   "execution_count": 36,
   "metadata": {},
   "outputs": [
    {
     "name": "stdout",
     "output_type": "stream",
     "text": [
      "0      13.0\n",
      "1     600.0\n",
      "2       NaN\n",
      "3    1500.0\n",
      "dtype: float64\n",
      "\n",
      "0      32\n",
      "1     700\n",
      "2    1200\n",
      "3    1500\n",
      "dtype: int64\n"
     ]
    }
   ],
   "source": [
    "print(sr1,sr2,sep='\\n\\n')"
   ]
  },
  {
   "cell_type": "code",
   "execution_count": 37,
   "metadata": {},
   "outputs": [
    {
     "data": {
      "text/plain": [
       "0    3.0\n",
       "1    0.0\n",
       "2    NaN\n",
       "3    0.0\n",
       "dtype: float64"
      ]
     },
     "execution_count": 37,
     "metadata": {},
     "output_type": "execute_result"
    }
   ],
   "source": [
    "#[4-1] 연산 수행 : Series + 숫자\n",
    "# -산술 연산\n",
    "sr1 % 5"
   ]
  },
  {
   "cell_type": "code",
   "execution_count": 38,
   "metadata": {},
   "outputs": [
    {
     "data": {
      "text/plain": [
       "0    False\n",
       "1    False\n",
       "2    False\n",
       "3    False\n",
       "dtype: bool"
      ]
     },
     "execution_count": 38,
     "metadata": {},
     "output_type": "execute_result"
    }
   ],
   "source": [
    "#- 비교연산\n",
    "\n",
    "sr1>sr2"
   ]
  },
  {
   "cell_type": "code",
   "execution_count": 39,
   "metadata": {},
   "outputs": [
    {
     "data": {
      "text/plain": [
       "0        416.0\n",
       "1     420000.0\n",
       "2          NaN\n",
       "3    2250000.0\n",
       "dtype: float64"
      ]
     },
     "execution_count": 39,
     "metadata": {},
     "output_type": "execute_result"
    }
   ],
   "source": [
    "#[4-2] 연산 수행 : Series +Series \n",
    "# -산술 연산\n",
    "sr1  *sr2"
   ]
  },
  {
   "cell_type": "code",
   "execution_count": 40,
   "metadata": {},
   "outputs": [
    {
     "data": {
      "text/plain": [
       "0     True\n",
       "1     True\n",
       "2     True\n",
       "3    False\n",
       "dtype: bool"
      ]
     },
     "execution_count": 40,
     "metadata": {},
     "output_type": "execute_result"
    }
   ],
   "source": [
    "#-비교연산  -->: Series +Series \n",
    "sr1!=sr2"
   ]
  },
  {
   "cell_type": "code",
   "execution_count": 41,
   "metadata": {},
   "outputs": [
    {
     "data": {
      "text/plain": [
       "0      32\n",
       "2     700\n",
       "3    1200\n",
       "4    1500\n",
       "dtype: int64"
      ]
     },
     "execution_count": 41,
     "metadata": {},
     "output_type": "execute_result"
    }
   ],
   "source": [
    "#[5] 인덱스가 다른  Series 끼리 연산 수행\n",
    "# -sr3 생성 : sr2에서 인덱스 변경 [0,1,2,3]=>[0,2,3,4]\n",
    "sr3=sr2.rename(index={1:2,2:3,3:4})\n",
    "sr3"
   ]
  },
  {
   "cell_type": "code",
   "execution_count": 42,
   "metadata": {},
   "outputs": [],
   "source": [
    "# - 비교 연산 :ERROR 발생\n",
    "#sr2 + sr3"
   ]
  },
  {
   "cell_type": "code",
   "execution_count": 43,
   "metadata": {},
   "outputs": [
    {
     "data": {
      "text/plain": [
       "0      64.0\n",
       "1       NaN\n",
       "2    1900.0\n",
       "3    2700.0\n",
       "4       NaN\n",
       "dtype: float64"
      ]
     },
     "execution_count": 43,
     "metadata": {},
     "output_type": "execute_result"
    }
   ],
   "source": [
    "#산술 연산 \n",
    "sr2+sr3"
   ]
  },
  {
   "cell_type": "code",
   "execution_count": 44,
   "metadata": {},
   "outputs": [],
   "source": [
    "sr3=sr3.reset_index(drop=True)"
   ]
  },
  {
   "cell_type": "code",
   "execution_count": 45,
   "metadata": {},
   "outputs": [
    {
     "data": {
      "text/plain": [
       "0    False\n",
       "1    False\n",
       "2    False\n",
       "3    False\n",
       "dtype: bool"
      ]
     },
     "execution_count": 45,
     "metadata": {},
     "output_type": "execute_result"
    }
   ],
   "source": [
    "sr2>sr3"
   ]
  },
  {
   "cell_type": "code",
   "execution_count": 46,
   "metadata": {},
   "outputs": [
    {
     "data": {
      "text/plain": [
       "0      45.0\n",
       "1    1300.0\n",
       "2    1199.0\n",
       "3    3000.0\n",
       "dtype: float64"
      ]
     },
     "execution_count": 46,
     "metadata": {},
     "output_type": "execute_result"
    }
   ],
   "source": [
    "#[6] NaN 에 대한 연산 수행을 못하는 것 해결 위한 메서드 제공\n",
    "# fill_value : 빈 칸 즉 , NaN 값을 지정\n",
    "sr1.add(sr2)\n",
    "sr1.add(sr2,fill_value=-1.)"
   ]
  },
  {
   "cell_type": "code",
   "execution_count": 47,
   "metadata": {},
   "outputs": [],
   "source": [
    "# -인덱스가 다른 Series 연산에서 메서드 사용\n",
    "\n",
    "sr3=sr2.rename(index={1:2,2:3,3:4})\n"
   ]
  },
  {
   "cell_type": "code",
   "execution_count": 48,
   "metadata": {},
   "outputs": [
    {
     "data": {
      "text/plain": [
       "0      64.0\n",
       "1     700.0\n",
       "2    1900.0\n",
       "3    2700.0\n",
       "4    1500.0\n",
       "dtype: float64"
      ]
     },
     "execution_count": 48,
     "metadata": {},
     "output_type": "execute_result"
    }
   ],
   "source": [
    "sr2.add(sr3, fill_value=0.0)"
   ]
  }
 ],
 "metadata": {
  "kernelspec": {
   "display_name": "py_39",
   "language": "python",
   "name": "python3"
  },
  "language_info": {
   "codemirror_mode": {
    "name": "ipython",
    "version": 3
   },
   "file_extension": ".py",
   "mimetype": "text/x-python",
   "name": "python",
   "nbconvert_exporter": "python",
   "pygments_lexer": "ipython3",
   "version": "3.9.19"
  }
 },
 "nbformat": 4,
 "nbformat_minor": 2
}
