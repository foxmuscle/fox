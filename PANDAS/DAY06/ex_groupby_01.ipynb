{
 "cells": [
  {
   "cell_type": "markdown",
   "metadata": {},
   "source": [
    "#### [ 그룹화 처리 ]\n",
    " - Series/DataFram 에 groupby 메서드 사용\n",
    " - Series/DataFrameGroupBy 결과 로 반환\n",
    " "
   ]
  },
  {
   "cell_type": "code",
   "execution_count": null,
   "metadata": {},
   "outputs": [],
   "source": [
    "# [1] 모듈로딩\n",
    "import pandas as pd"
   ]
  },
  {
   "cell_type": "code",
   "execution_count": null,
   "metadata": {},
   "outputs": [],
   "source": [
    "file_name='titanic.csv'\n"
   ]
  },
  {
   "cell_type": "code",
   "execution_count": null,
   "metadata": {},
   "outputs": [],
   "source": []
  },
  {
   "cell_type": "code",
   "execution_count": null,
   "metadata": {},
   "outputs": [],
   "source": [
    "#[4] 데이터 확인\n",
    "util.checkDataFrame(dataDF,'datadf')"
   ]
  },
  {
   "cell_type": "code",
   "execution_count": null,
   "metadata": {},
   "outputs": [],
   "source": [
    "# [5] 분석 주제 ==> 성별에 따른 나이 분포\n",
    "# - 분석 컬럼 즉, 성별과 나이 컬럼\n",
    "# loc[행 ,열]\n",
    "gender_ageDF=dataDF.loc[ : ,['sex','age']]\n",
    "\n"
   ]
  },
  {
   "cell_type": "code",
   "execution_count": null,
   "metadata": {},
   "outputs": [],
   "source": [
    "# -  [5 -1 ] 데이터 전처리 : 결측치 ,중복값\n",
    "# -- 결측치 : isna(),isnull()\n",
    "\n",
    "gender_ageDF.isna().sum()"
   ]
  },
  {
   "cell_type": "code",
   "execution_count": null,
   "metadata": {},
   "outputs": [],
   "source": [
    "#  - 결측치 처리 => 성별에 따라 치환  ==\n",
    "\n",
    "gender_ageDF['sex'] == 'male'"
   ]
  },
  {
   "cell_type": "code",
   "execution_count": null,
   "metadata": {},
   "outputs": [],
   "source": [
    "#  - 결측치 처리 => 성별에 따라 치환  ==\n",
    "# -- 성별에 따른 그룹화\n",
    "groupObj=gender_ageDF.groupby('sex00')"
   ]
  },
  {
   "cell_type": "code",
   "execution_count": null,
   "metadata": {},
   "outputs": [],
   "source": [
    "# -- Group객체의 속성\n",
    "# -- groups 속성 : 그룹화된 그룹에 속하는 인덱스 정보 저장 Dict 형태\n",
    "print(groupObj.groups.keys())\n",
    "print(groupObj.groups.values())\n"
   ]
  },
  {
   "cell_type": "code",
   "execution_count": null,
   "metadata": {},
   "outputs": [],
   "source": [
    "# -- Group객체의 속성\n",
    "# -- indices 속성 : 각 그룹의 인덱스 속성을 저장 Dict 형태\n",
    "print(groupObj.indices)\n",
    "print(groupObj.indices.keys())\n"
   ]
  },
  {
   "cell_type": "code",
   "execution_count": null,
   "metadata": {},
   "outputs": [],
   "source": [
    "#--get_group() 메서드 : 그룹화된 그룹들 중에서 특정 그룹 데이터 읽기 메서드\n",
    "#                     DataFrame 반환\n",
    "for key in groupObj,groups.keys():\n",
    "    print(f'[{key}]')\n",
    "    print(groupObj.get_group(key).ndum , groupObj.get_group(key).shape)\n",
    "    print(groupObj.get_group(key).min() , groupObj.get_group(key).max())\n",
    "\n",
    "groupObj.get_group('male')"
   ]
  },
  {
   "cell_type": "code",
   "execution_count": null,
   "metadata": {},
   "outputs": [],
   "source": [
    "#- 그룹별로 집계연산  수행\n",
    "print(groupObj.count())\n",
    "print(groupObj.max())\n",
    "print(groupObj.min())\n",
    "print(groupObj.mean())\n",
    "print(groupObj.median())\n",
    "\n",
    "\n"
   ]
  },
  {
   "cell_type": "code",
   "execution_count": 14,
   "metadata": {},
   "outputs": [
    {
     "ename": "NameError",
     "evalue": "name 'groupObj' is not defined",
     "output_type": "error",
     "traceback": [
      "\u001b[1;31m---------------------------------------------------------------------------\u001b[0m",
      "\u001b[1;31mNameError\u001b[0m                                 Traceback (most recent call last)",
      "Cell \u001b[1;32mIn[14], line 1\u001b[0m\n\u001b[1;32m----> 1\u001b[0m \u001b[43mgroupObj\u001b[49m\u001b[38;5;241m.\u001b[39magg([\u001b[38;5;124m'\u001b[39m\u001b[38;5;124mmin\u001b[39m\u001b[38;5;124m'\u001b[39m,\u001b[38;5;124m'\u001b[39m\u001b[38;5;124mmax\u001b[39m\u001b[38;5;124m'\u001b[39m,\u001b[38;5;124m'\u001b[39m\u001b[38;5;124mmean\u001b[39m\u001b[38;5;124m'\u001b[39m,\u001b[38;5;124m'\u001b[39m\u001b[38;5;124mmedian\u001b[39m\u001b[38;5;124m'\u001b[39m,\u001b[38;5;124m'\u001b[39m\u001b[38;5;124msum\u001b[39m\u001b[38;5;124m'\u001b[39m])\n\u001b[0;32m      3\u001b[0m resultDF\u001b[38;5;241m=\u001b[39mgroupObj\u001b[38;5;241m.\u001b[39magg([\u001b[38;5;124m'\u001b[39m\u001b[38;5;124mmin\u001b[39m\u001b[38;5;124m'\u001b[39m,\u001b[38;5;124m'\u001b[39m\u001b[38;5;124mmax\u001b[39m\u001b[38;5;124m'\u001b[39m,\u001b[38;5;124m'\u001b[39m\u001b[38;5;124mmean\u001b[39m\u001b[38;5;124m'\u001b[39m,\u001b[38;5;124m'\u001b[39m\u001b[38;5;124mmedian\u001b[39m\u001b[38;5;124m'\u001b[39m,\u001b[38;5;124m'\u001b[39m\u001b[38;5;124msum\u001b[39m\u001b[38;5;124m'\u001b[39m])\n",
      "\u001b[1;31mNameError\u001b[0m: name 'groupObj' is not defined"
     ]
    }
   ],
   "source": [
    "groupObj.agg(['min','max','mean','median','sum'])\n",
    "\n",
    "resultDF=groupObj.agg(['min','max','mean','median','sum'])"
   ]
  },
  {
   "cell_type": "code",
   "execution_count": null,
   "metadata": {},
   "outputs": [],
   "source": [
    "# 멀티인덱스 \n",
    "resultDF.columns"
   ]
  }
 ],
 "metadata": {
  "kernelspec": {
   "display_name": "py_39",
   "language": "python",
   "name": "python3"
  },
  "language_info": {
   "codemirror_mode": {
    "name": "ipython",
    "version": 3
   },
   "file_extension": ".py",
   "mimetype": "text/x-python",
   "name": "python",
   "nbconvert_exporter": "python",
   "pygments_lexer": "ipython3",
   "version": "3.9.19"
  }
 },
 "nbformat": 4,
 "nbformat_minor": 2
}
