{
 "cells": [
  {
   "cell_type": "markdown",
   "metadata": {},
   "source": []
  },
  {
   "cell_type": "markdown",
   "metadata": {},
   "source": [
    "### Series 데이터 자료형\n",
    "- 판다스에서 1줄의 데이터를 저장하는 자료형/ 데이터 타입\n",
    "- 형식 : pandas.Series()\n",
    "- 구성 : index+data"
   ]
  },
  {
   "cell_type": "code",
   "execution_count": 22,
   "metadata": {},
   "outputs": [],
   "source": [
    "\n",
    "import pandas as pd\n",
    "#데이터 준비\n",
    "data1=['A','B','C']\n",
    "data2={'name':'Hong','age':10}\n"
   ]
  },
  {
   "cell_type": "code",
   "execution_count": 23,
   "metadata": {},
   "outputs": [],
   "source": [
    "# 시리즈 객체 생성\n",
    "sr1=pd.Series(data1)\n",
    "sr2=pd.Series(data2)\n"
   ]
  },
  {
   "cell_type": "code",
   "execution_count": 24,
   "metadata": {},
   "outputs": [
    {
     "data": {
      "text/plain": [
       "0    A\n",
       "1    B\n",
       "2    C\n",
       "dtype: object"
      ]
     },
     "execution_count": 24,
     "metadata": {},
     "output_type": "execute_result"
    }
   ],
   "source": [
    "sr1"
   ]
  },
  {
   "cell_type": "code",
   "execution_count": 25,
   "metadata": {},
   "outputs": [
    {
     "data": {
      "text/plain": [
       "name    Hong\n",
       "age       10\n",
       "dtype: object"
      ]
     },
     "execution_count": 25,
     "metadata": {},
     "output_type": "execute_result"
    }
   ],
   "source": [
    "sr2"
   ]
  },
  {
   "cell_type": "code",
   "execution_count": 26,
   "metadata": {},
   "outputs": [
    {
     "name": "stdout",
     "output_type": "stream",
     "text": [
      "index  : RangeIndex(start=0, stop=3, step=1)\n",
      "values : ['A' 'B' 'C']\n",
      "dtype  : object\n",
      "ndim  : 1\n"
     ]
    }
   ],
   "source": [
    "# 리스트 데이터 생성된 시리즈 객체 속성 확인\n",
    "print(\"index  :\" ,sr1.index)\n",
    "print(\"values :\", sr1.values)\n",
    "print(\"dtype  :\",sr1.dtype)\n",
    "print(\"ndim  :\",sr1.ndim)"
   ]
  },
  {
   "cell_type": "code",
   "execution_count": 27,
   "metadata": {},
   "outputs": [
    {
     "name": "stdout",
     "output_type": "stream",
     "text": [
      "index : Index(['name', 'age'], dtype='object')\n",
      "values: ['Hong' 10]\n",
      "dtype: object\n",
      "ndim: 1\n"
     ]
    }
   ],
   "source": [
    "#  딕셔너리 데이터 생성된 시리즈 객체 속성 확인\n",
    "print(\"index :\",sr2.index)\n",
    "print(\"values:\" ,sr2.values)\n",
    "print(\"dtype:\",sr2.dtype)\n",
    "print(\"ndim:\",sr2.ndim)"
   ]
  },
  {
   "cell_type": "code",
   "execution_count": 28,
   "metadata": {},
   "outputs": [
    {
     "name": "stdout",
     "output_type": "stream",
     "text": [
      "A B C\n"
     ]
    }
   ],
   "source": [
    "##시리즈 객체의 원소/요소 읽기 ==> 변수명[인덱스]\n",
    "## sr1객체의 원소 읽기\n",
    "print(sr1[0],sr1[1],sr1[2])\n",
    "##   sr1[-1]) 음수 인덱스는 ERROR"
   ]
  },
  {
   "cell_type": "code",
   "execution_count": 29,
   "metadata": {},
   "outputs": [
    {
     "name": "stdout",
     "output_type": "stream",
     "text": [
      "Hong 10\n"
     ]
    }
   ],
   "source": [
    "## sr2 객체의 원소 읽기\n",
    "print(sr2['name'],sr2['age'])"
   ]
  },
  {
   "cell_type": "code",
   "execution_count": 30,
   "metadata": {},
   "outputs": [
    {
     "name": "stdout",
     "output_type": "stream",
     "text": [
      "A B\n",
      "<class 'str'> <class 'str'>\n",
      "0    A\n",
      "2    C\n",
      "dtype: object\n",
      "<class 'pandas.core.series.Series'>\n"
     ]
    }
   ],
   "source": [
    "## sr1객체에서 2개의 원소 읽기\n",
    "# - 0 번원소와 2번 원소 읽기\n",
    "print(sr1[0],sr1[1]) # 1개씩 따로 따로 \n",
    "print(type(sr1[0]),type(sr1[2]))\n",
    "print(sr1[[0,2]]) #2개 한꺼번에\n",
    "print(type(sr1[[0,2]]))"
   ]
  },
  {
   "cell_type": "code",
   "execution_count": 31,
   "metadata": {},
   "outputs": [
    {
     "data": {
      "text/plain": [
       "0    A\n",
       "1    B\n",
       "dtype: object"
      ]
     },
     "execution_count": 31,
     "metadata": {},
     "output_type": "execute_result"
    }
   ],
   "source": [
    "# 시리즈 객체의 원소/요소 읽기 ==> 변수명[시작 :끝 +1]\n",
    "sr1[0:2]"
   ]
  },
  {
   "cell_type": "code",
   "execution_count": 32,
   "metadata": {},
   "outputs": [
    {
     "data": {
      "text/plain": [
       "0    A\n",
       "dtype: object"
      ]
     },
     "execution_count": 32,
     "metadata": {},
     "output_type": "execute_result"
    }
   ],
   "source": [
    "sr1[0:2:2] # 시작 :끝+1: 간격"
   ]
  },
  {
   "cell_type": "code",
   "execution_count": 33,
   "metadata": {},
   "outputs": [
    {
     "data": {
      "text/plain": [
       "0    A\n",
       "1    B\n",
       "dtype: object"
      ]
     },
     "execution_count": 33,
     "metadata": {},
     "output_type": "execute_result"
    }
   ],
   "source": [
    "sr1[:2] # 처음부터 ~1번 원소 까지 "
   ]
  },
  {
   "cell_type": "code",
   "execution_count": null,
   "metadata": {},
   "outputs": [],
   "source": [
    "sr1[:]     #처음부터 ~끝까지 "
   ]
  }
 ],
 "metadata": {
  "kernelspec": {
   "display_name": "py_39",
   "language": "python",
   "name": "python3"
  },
  "language_info": {
   "codemirror_mode": {
    "name": "ipython",
    "version": 3
   },
   "file_extension": ".py",
   "mimetype": "text/x-python",
   "name": "python",
   "nbconvert_exporter": "python",
   "pygments_lexer": "ipython3",
   "version": "3.9.19"
  }
 },
 "nbformat": 4,
 "nbformat_minor": 2
}
